{
  "nbformat": 4,
  "nbformat_minor": 0,
  "metadata": {
    "colab": {
      "name": "Untitled2.ipynb",
      "provenance": []
    },
    "kernelspec": {
      "name": "python3",
      "display_name": "Python 3"
    }
  },
  "cells": [
    {
      "cell_type": "markdown",
      "metadata": {
        "id": "1Ks6jtI14_0f",
        "colab_type": "text"
      },
      "source": [
        "# ** Capstone Project - The Battle of the Neighborhoods (WEEK 1) **"
      ]
    },
    {
      "cell_type": "markdown",
      "metadata": {
        "id": "9iWpIuM148Fl",
        "colab_type": "text"
      },
      "source": [
        "# Applied Data Science Capstone by IBM/Coursera"
      ]
    },
    {
      "cell_type": "markdown",
      "metadata": {
        "id": "1Mg95Vt25XeR",
        "colab_type": "text"
      },
      "source": [
        "**Table of contents**¶\n",
        "\n",
        "*   Introduction: Business Problem\n",
        "*   Data\n",
        "\n",
        "\n",
        "*   Methodology\n",
        "\n",
        "*   Analysis\n",
        "*   Results and Discussion\n",
        "\n",
        "\n",
        "*   Conclusion\n",
        "\n",
        "\n",
        "\n",
        "\n",
        "\n",
        "\n",
        "\n",
        "\n",
        "\n",
        "\n"
      ]
    },
    {
      "cell_type": "markdown",
      "metadata": {
        "id": "xI1sJMrW58jg",
        "colab_type": "text"
      },
      "source": [
        "\n",
        "# Introduction: Business Problem \n",
        "In this project we will try to find an optimal location for a restaurant. Specifically, this report will be targeted to stakeholders interested in opening an Italian restaurant in Berlin, Germany.\n",
        "\n",
        "Since there are lots of restaurants in Berlin we will try to detect locations that are not already crowded with restaurants. We are also particularly interested in areas with no Italian restaurants in vicinity. We would also prefer locations as close to city center as possible, assuming that first two conditions are met.\n",
        "\n",
        "We will use our data science powers to generate a few most promissing neighborhoods based on this criteria. Advantages of each area will then be clearly expressed so that best possible final location can be chosen by stakeholders."
      ]
    },
    {
      "cell_type": "markdown",
      "metadata": {
        "id": "MYi_BHH16JMQ",
        "colab_type": "text"
      },
      "source": [
        "# Data\n",
        "Based on definition of our problem, factors that will influence our decission are:\n",
        "\n",
        "\n",
        "*   number of existing restaurants in the neighborhood (any type of \n",
        "restaurant)\n",
        "*   number of and distance to Italian restaurants in the neighborhood, if any\n",
        "\n",
        "*   distance of neighborhood from city center\n",
        "\n",
        "We decided to use regularly spaced grid of locations, centered around city center, to define our neighborhoods.\n",
        "\n",
        "Following data sources will be needed to extract/generate the required information:\n",
        "\n",
        "\n",
        "\n",
        "*   centers of candidate areas will be generated algorithmically and approximate addresses of centers of those areas will be obtained using Google Maps API reverse geocoding\n",
        "*   number of restaurants and their type and location in every neighborhood will be obtained using Foursquare API\n",
        "\n",
        "\n",
        "*   coordinate of Berlin center will be obtained using Google Maps API geocoding of well known Berlin location (Alexanderplatz)\n",
        "\n",
        "\n",
        "\n",
        "\n",
        "\n",
        "\n",
        "\n"
      ]
    }
  ]
}